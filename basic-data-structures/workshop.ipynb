{
 "nbformat": 4,
 "nbformat_minor": 2,
 "metadata": {
  "language_info": {
   "name": "python",
   "codemirror_mode": {
    "name": "ipython",
    "version": 3
   },
   "version": "3.7.4-final"
  },
  "orig_nbformat": 2,
  "file_extension": ".py",
  "mimetype": "text/x-python",
  "name": "python",
  "npconvert_exporter": "python",
  "pygments_lexer": "ipython3",
  "version": 3,
  "kernelspec": {
   "name": "python37464bitac03641431254c3c98036337416b6071",
   "display_name": "Python 3.7.4 64-bit"
  }
 },
 "cells": [
  {
   "cell_type": "markdown",
   "execution_count": null,
   "metadata": {},
   "outputs": [],
   "source": [
    "# Basic Data Structures\n",
    "\n",
    "In this workshop, we will cover lists, stacks, and queues. These data structures are used in pretty much all algorithm problems, so it is important to know their time complexities and how to use them.\n",
    "\n",
    "Topics that we will cover are: \n",
    "\n",
    "1. lists\n",
    "1. linked lists\n",
    "1. stacks\n",
    "1. queues\n",
    "1. teque competitive programming problem"
   ]
  },
  {
   "cell_type": "markdown",
   "execution_count": null,
   "metadata": {},
   "outputs": [],
   "source": [
    "## Lists\n",
    "\n",
    "In Python, lists are dynamic, autoscaling arrays. This means that there is no size limit to the array. Lists are stored in consecutive locations in the memory, so it is easy to access elements.\n",
    "\n",
    "##### Time complexities\n",
    "\n",
    "- Get: O(1)\n",
    "- Insert: O(n)\n",
    "- Append: O(1)\n",
    "- Remove: O(n)\n",
    "\n",
    "Lists are declared with brackets in Python. As learned in the python shortcuts workshop, we can also use list comprehension to generate a list. "
   ]
  },
  {
   "cell_type": "code",
   "execution_count": null,
   "metadata": {},
   "outputs": [],
   "source": [
    "# Getting elements from a list\n",
    "\n",
    "myList = [i for i in range(10, 15)]\n",
    "\n",
    "print('The list is: ', myList)\n",
    "print('Index at 0: ', myList[0])\n",
    "print('Indexes 2, 3: ', myList[2:4])\n",
    "print('Every even numbered index: ', myList[::2])\n",
    "\n",
    "# What happens when these numbers are negative? Try it out below!\n"
   ]
  },
  {
   "cell_type": "code",
   "execution_count": null,
   "metadata": {},
   "outputs": [],
   "source": [
    "# Inserting elements into a list\n",
    "\n",
    "myList = [i for i in range(10, 19)]\n",
    "\n",
    "print('Initially, the list is: ', myList)\n",
    "\n",
    "myList.insert(5, 999999)\n",
    "\n",
    "print('After inserting, the list becomes ', myList)"
   ]
  },
  {
   "cell_type": "code",
   "execution_count": null,
   "metadata": {},
   "outputs": [],
   "source": [
    "# Appending to a list\n",
    "myList = [i for i in range(10, 19)]\n",
    "\n",
    "print('Initially, the list is: ', myList)\n",
    "myList.append(1000)\n",
    "print('After appending 1000, the list is: ', myList)\n",
    "\n",
    "# Try appending 3 elements: ['a', 'b', 'c'] to the end of myList in 1 append statement!\n"
   ]
  },
  {
   "cell_type": "code",
   "execution_count": null,
   "metadata": {},
   "outputs": [],
   "source": [
    "# Removing from a list\n",
    "myList = [i for i in range(10, 19)]\n",
    "\n",
    "print('Initially, the list is: ', myList)\n",
    "myList.pop(2)\n",
    "print('We just popped the element at index 2 of the list!', myList)\n",
    "\n",
    "# What happens when you don't give pop a parameter? Try it!"
   ]
  },
  {
   "cell_type": "markdown",
   "execution_count": null,
   "metadata": {},
   "outputs": [],
   "source": [
    "## Linked Lists\n",
    "\n",
    "Linked lists are really similar to lists where it stores a collection of values. However, its implementation is different. Linked lists are consisted of nodes consisting of its value and a pointer to the next node. \n",
    "\n",
    "##### Time complexities (singly-linked lists)\n",
    "- Get: O(n)\n",
    "- Insert: O(n)\n",
    "- Append: O(n)\n",
    "- Remove: O(n)\n",
    "\n",
    "\n",
    "There are two types of linked lists: Singly-linked and doubly-linked. A node in a singly-linked list is shown below. The only difference between this and a doubly linked list is that a doubly linked list has a self.prev value, which points to the previous node.\n",
    "\n",
    "```\n",
    "class ListNode:\n",
    "    def __init__(self, x):\n",
    "        self.val = x\n",
    "        self.next = None\n",
    "```\n",
    "\n",
    "To make a linked list, first create a root node. Then, set the next node of root to another node. Keep doing this until all of the elements that should be added has been added. "
   ]
  },
  {
   "cell_type": "code",
   "execution_count": null,
   "metadata": {},
   "outputs": [],
   "source": [
    "class ListNode:\n",
    "    def __init__(self, x):\n",
    "        self.val = x\n",
    "        self.next = None\n",
    "\n",
    "# Make a linked list\n",
    "root = ListNode(0)\n",
    "tmp = root\n",
    "for i in range(1,10):\n",
    "    tmp.next = ListNode(i)\n",
    "    tmp = tmp.next\n",
    "\n",
    "# function to print out a linked list\n",
    "def printList(root):\n",
    "    while root:\n",
    "        print(root.val, end=\", \")\n",
    "        root = root.next\n",
    "\n",
    "printList(root)"
   ]
  },
  {
   "cell_type": "markdown",
   "execution_count": null,
   "metadata": {},
   "outputs": [],
   "source": [
    "Inserting elements into a linked list is more difficult. To insert to the \"ith\" position of a linked list, you need a runner and a counter. The counter keeps track of the position and the runner inserts the node."
   ]
  },
  {
   "cell_type": "code",
   "execution_count": 16,
   "metadata": {},
   "outputs": [
    {
     "name": "stdout",
     "output_type": "stream",
     "text": "0\n1\n2\nhello\n3\n4\n5\n6\n7\n8\n9\n"
    }
   ],
   "source": [
    "# Make a linked list\n",
    "root = ListNode(0)\n",
    "tmp = root\n",
    "for i in range(1,10):\n",
    "    tmp.next = ListNode(i)\n",
    "    tmp = tmp.next\n",
    "\n",
    "# Insert function\n",
    "def insert(root, position, element):\n",
    "    runner = root\n",
    "    for i in range(position):\n",
    "        runner = runner.next\n",
    "    tmp = runner.next\n",
    "    runner.next = ListNode(element)\n",
    "    runner.next.next = tmp\n",
    "    return root\n",
    "\n",
    "root = insert(root, 2, 'hello')\n",
    "printList(root)"
   ]
  },
  {
   "cell_type": "code",
   "execution_count": null,
   "metadata": {},
   "outputs": [],
   "source": []
  }
 ]
}